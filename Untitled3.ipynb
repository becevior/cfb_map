{
 "cells": [
  {
   "cell_type": "code",
   "execution_count": 2,
   "id": "59b398ff-eb6a-40d4-aa2d-b9211b1a8be7",
   "metadata": {},
   "outputs": [],
   "source": [
    "import json\n",
    "import pandas as pd"
   ]
  },
  {
   "cell_type": "code",
   "execution_count": 9,
   "id": "84953065-3141-47b4-9f62-36010b476ed8",
   "metadata": {},
   "outputs": [
    {
     "name": "stdout",
     "output_type": "stream",
     "text": [
      "Odds data successfully extracted and saved to odds_data.csv\n"
     ]
    }
   ],
   "source": [
    "import json\n",
    "import csv\n",
    "\n",
    "def extract_odds(data):\n",
    "    \"\"\"Extracts odds information from the given JSON data.\"\"\"\n",
    "    odds_data = []\n",
    "    for event in data[\"events\"]:\n",
    "        for odds in event[\"odds\"]:\n",
    "            home_team = odds[\"homeTeamOdds\"][\"team\"][\"displayName\"]\n",
    "            home_team_odds = odds[\"homeTeamOdds\"][\"favorite\"]\n",
    "            away_team = odds[\"awayTeamOdds\"][\"team\"][\"displayName\"]\n",
    "            away_team_odds = odds[\"awayTeamOdds\"][\"favorite\"]\n",
    "            spread = odds[\"spread\"]\n",
    "            over_under = odds[\"overUnder\"]\n",
    "            odds_data.append([\n",
    "                f'{away_team} at {home_team}',\n",
    "                event[\"date\"],\n",
    "                home_team,\n",
    "                home_team_odds,\n",
    "                away_team,\n",
    "                away_team_odds,\n",
    "                spread,\n",
    "                over_under\n",
    "            ])\n",
    "    return odds_data\n",
    "\n",
    "def write_to_csv(odds_data, filename):\n",
    "    \"\"\"Writes the extracted odds data to a CSV file.\"\"\"\n",
    "    with open(filename, 'w', newline='') as csvfile:\n",
    "        writer = csv.writer(csvfile)\n",
    "        writer.writerow([\"Game\", \"Date\", \"Home Team\", \"Home Team Odds\", \"Away Team\", \"Away Team Odds\", \"Spread\", \"Over/Under\"])\n",
    "        writer.writerows(odds_data)\n",
    "\n",
    "# Load the JSON data\n",
    "with open(\"/Users/connerbeckwith/Desktop/scoreboard.json\", 'r') as f:\n",
    "    data = json.load(f)\n",
    "\n",
    "# Extract odds data\n",
    "odds_data = extract_odds(data)\n",
    "\n",
    "# Write to CSV\n",
    "write_to_csv(odds_data, \"odds_data.csv\")\n",
    "\n",
    "print(\"Odds data successfully extracted and saved to odds_data.csv\")"
   ]
  },
  {
   "cell_type": "code",
   "execution_count": null,
   "id": "6b2d9fca-174f-49bd-b6a7-86c018af32e3",
   "metadata": {},
   "outputs": [],
   "source": [
    "with open(\"~/Desktop/"
   ]
  }
 ],
 "metadata": {
  "kernelspec": {
   "display_name": "Python 3 (ipykernel)",
   "language": "python",
   "name": "python3"
  },
  "language_info": {
   "codemirror_mode": {
    "name": "ipython",
    "version": 3
   },
   "file_extension": ".py",
   "mimetype": "text/x-python",
   "name": "python",
   "nbconvert_exporter": "python",
   "pygments_lexer": "ipython3",
   "version": "3.11.10"
  }
 },
 "nbformat": 4,
 "nbformat_minor": 5
}
