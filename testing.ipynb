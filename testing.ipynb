{
 "cells": [
  {
   "cell_type": "code",
   "execution_count": 6,
   "id": "e9cbff07fde05751",
   "metadata": {
    "ExecuteTime": {
     "end_time": "2024-08-21T06:07:45.334011Z",
     "start_time": "2024-08-21T06:07:38.706058Z"
    }
   },
   "outputs": [],
   "source": [
    "import plotly.graph_objects as go\n",
    "import pandas as pd\n",
    "from urllib.request import urlopen\n",
    "import json\n",
    "import numpy as np\n",
    "from PIL import Image\n",
    "\n",
    "# Load US counties data\n",
    "with urlopen('https://raw.githubusercontent.com/plotly/datasets/master/geojson-counties-fips.json') as response:\n",
    "    counties = json.load(response)\n",
    "\n",
    "# Sample data for coloring (you would replace this with your actual data)\n",
    "df = pd.read_csv(\"https://raw.githubusercontent.com/plotly/datasets/master/fips-unemp-16.csv\",\n",
    "                 dtype={\"fips\": str})\n",
    "\n",
    "# Create the choropleth map\n",
    "fig = go.Figure(go.Choroplethmapbox(\n",
    "    geojson=counties,\n",
    "    locations=df.fips,\n",
    "    z=df.unemp,\n",
    "    colorscale=\"Viridis\",\n",
    "    zmin=0,\n",
    "    zmax=12,\n",
    "    marker_opacity=0.5,\n",
    "    marker_line_width=0\n",
    "))\n",
    "\n",
    "# Set the map style and center\n",
    "fig.update_layout(\n",
    "    mapbox_style=\"carto-positron\",\n",
    "    mapbox_zoom=3,\n",
    "    mapbox_center={\"lat\": 37.0902, \"lon\": -95.7129},\n",
    ")\n",
    "\n",
    "# Load and add the image overlay\n",
    "# Replace 'path_to_your_image.png' with the actual path to your image\n",
    "img = Image.open('test.png')\n",
    "img_array = np.array(img)\n",
    "\n",
    "fig.add_layout_image(\n",
    "    dict(\n",
    "        source=img,\n",
    "        xref=\"x\",\n",
    "        yref=\"y\",\n",
    "        x=0,\n",
    "        y=1,\n",
    "        sizex=1,\n",
    "        sizey=1,\n",
    "        sizing=\"stretch\",\n",
    "        opacity=0.5,\n",
    "        layer=\"above\"\n",
    "    )\n",
    ")\n",
    "\n",
    "# Adjust the layout to fit both map and image\n",
    "fig.update_layout(\n",
    "    width=800,\n",
    "    height=600,\n",
    "    margin={\"r\":0,\"t\":0,\"l\":0,\"b\":0}\n",
    ")\n",
    "fig.write_html(\"./static/interactiveCharts/test.html\")"
   ]
  },
  {
   "cell_type": "code",
   "execution_count": null,
   "id": "f2803014b4ac94f",
   "metadata": {
    "ExecuteTime": {
     "end_time": "2024-08-21T06:07:18.492299Z",
     "start_time": "2024-08-21T06:07:18.490763Z"
    }
   },
   "outputs": [],
   "source": []
  }
 ],
 "metadata": {
  "kernelspec": {
   "display_name": "Python 3 (ipykernel)",
   "language": "python",
   "name": "python3"
  },
  "language_info": {
   "codemirror_mode": {
    "name": "ipython",
    "version": 3
   },
   "file_extension": ".py",
   "mimetype": "text/x-python",
   "name": "python",
   "nbconvert_exporter": "python",
   "pygments_lexer": "ipython3",
   "version": "3.11.10"
  }
 },
 "nbformat": 4,
 "nbformat_minor": 5
}
